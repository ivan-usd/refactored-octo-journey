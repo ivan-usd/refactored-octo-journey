{
 "cells": [
  {
   "cell_type": "code",
   "execution_count": 35,
   "metadata": {},
   "outputs": [],
   "source": [
    "#Importing python packages\n",
    "import numpy as np\n",
    "import pandas as pd\n",
    "import matplotlib as mpl\n",
    "import matplotlib.pyplot as plt\n",
    "import seaborn as sns"
   ]
  },
  {
   "cell_type": "markdown",
   "metadata": {},
   "source": [
    "QUESTION 1"
   ]
  },
  {
   "cell_type": "code",
   "execution_count": 36,
   "metadata": {},
   "outputs": [],
   "source": [
    "#Setting Variables for question 1\n",
    "weightsFP = '../src/data/module3Data/weights.tsv'\n",
    "POUND_KILO = 0.453592"
   ]
  },
  {
   "cell_type": "code",
   "execution_count": 37,
   "metadata": {},
   "outputs": [],
   "source": [
    "#1.1 Import TSV file Weights using Pandas package\n",
    "weights = pd.read_csv(weightsFP, sep='\\t', header=None)\n",
    "weights.columns = ['Pounds']"
   ]
  },
  {
   "cell_type": "code",
   "execution_count": 38,
   "metadata": {},
   "outputs": [],
   "source": [
    "#1.2 Convert Pounds to Kilogram and round to 2 decimal places\n",
    "weights['Kilograms'] = round(weights * POUND_KILO,2)"
   ]
  },
  {
   "cell_type": "code",
   "execution_count": 39,
   "metadata": {},
   "outputs": [
    {
     "name": "stdout",
     "output_type": "stream",
     "text": [
      "Mean for Pounds: 161.6 \n",
      "Mean for Kilograms: 73.3 \n",
      "Median Pounds: 160.5 \n",
      "Median Kilograms: 72.8 \n",
      "STD Pounds 15.06 \n",
      "STD Kilograms: 6.83\n"
     ]
    }
   ],
   "source": [
    "# 1.3 Find Mean, Median, and STD of both series objects using Numpy package\n",
    "Mean = round(np.mean(weights),2)\n",
    "poundsMedian = round(np.median(weights.Pounds),2)\n",
    "kiloMedian = round(np.median(weights.Kilograms),2)\n",
    "STD = round(np.std(weights),2)\n",
    "print('Mean for Pounds: '+str(Mean['Pounds']),'\\nMean for Kilograms: '+str(Mean['Kilograms']),\n",
    "    '\\nMedian Pounds: '+str(poundsMedian),'\\nMedian Kilograms: '+str(kiloMedian),'\\nSTD Pounds '+str(STD['Pounds']),\n",
    "    '\\nSTD Kilograms: '+str(STD['Kilograms']))"
   ]
  },
  {
   "cell_type": "code",
   "execution_count": 40,
   "metadata": {},
   "outputs": [
    {
     "data": {
      "image/png": "[encoded data removed]",
      "text/plain": [
       "<Figure size 720x504 with 1 Axes>"
      ]
     },
     "metadata": {
      "needs_background": "light"
     },
     "output_type": "display_data"
    }
   ],
   "source": [
    "# 1.4 Plotting Histogram for Kilograms using matplotlib.pyplot package\n",
    "plt.figure(figsize=(10,7))\n",
    "hist1, edges1 = np.histogram(weights.Kilograms, bins=10)\n",
    "plt.title('Histogram for Weight in Kilograms')\n",
    "plt.bar(edges1[:-1], hist1, width=edges1[1:]-edges1[:-1])\n",
    "plt.show()"
   ]
  },
  {
   "cell_type": "markdown",
   "metadata": {},
   "source": [
    "QUESTION 2"
   ]
  },
  {
   "cell_type": "code",
   "execution_count": 41,
   "metadata": {},
   "outputs": [],
   "source": [
    "#Setting variables\n",
    "bostonFP = '../src/data/module3Data/boston.csv'"
   ]
  },
  {
   "cell_type": "code",
   "execution_count": 42,
   "metadata": {},
   "outputs": [
    {
     "name": "stdout",
     "output_type": "stream",
     "text": [
      "Number of Rows: 506\n",
      "Number of Columns: 13\n"
     ]
    }
   ],
   "source": [
    "# #2.1 Import boston file using pandas and use the shape attribute\n",
    "boston = pd.read_csv(bostonFP)\n",
    "print(f'Number of Rows: {boston.shape[0]}\\nNumber of Columns: {boston.shape[1]}')"
   ]
  },
  {
   "cell_type": "code",
   "execution_count": 43,
   "metadata": {},
   "outputs": [
    {
     "name": "stdout",
     "output_type": "stream",
     "text": [
      "Owner occupied home value for lowest nitric oxide concentration is: 20.1\n"
     ]
    }
   ],
   "source": [
    "#2.2 Grabbing row with lowest NOX concentration using loc, then printing out the value of MEDV column for that row\n",
    "noxMinRow = boston.loc[boston['NOX'] == boston['NOX'].min()]\n",
    "print(f\"Owner occupied home value for lowest nitric oxide concentration is: {noxMinRow['MEDV'].values[0]}\")"
   ]
  },
  {
   "cell_type": "code",
   "execution_count": 44,
   "metadata": {},
   "outputs": [
    {
     "data": {
      "image/png": "[encoded data removed]",
      "text/plain": [
       "<Figure size 720x504 with 1 Axes>"
      ]
     },
     "metadata": {
      "needs_background": "light"
     },
     "output_type": "display_data"
    },
    {
     "name": "stdout",
     "output_type": "stream",
     "text": [
      "The CRIM IQR is: 3.5950375\n"
     ]
    }
   ],
   "source": [
    "#2.3 Creating boxplot using matplotlib and finding IQR using Pandas quantile attributes\n",
    "plt.figure(figsize=(10,7))\n",
    "plt.boxplot(boston['CRIM'])\n",
    "plt.title('Per Capita Crime Rate')\n",
    "plt.show()\n",
    "bostonIQR = boston['CRIM'].quantile(0.75)-boston['CRIM'].quantile(0.25)\n",
    "print(f'The CRIM IQR is: {bostonIQR}')"
   ]
  },
  {
   "cell_type": "code",
   "execution_count": 45,
   "metadata": {},
   "outputs": [],
   "source": [
    "#Missing 2.4, 2.5 ,2.6"
   ]
  },
  {
   "cell_type": "markdown",
   "metadata": {},
   "source": [
    "QUESTION 3"
   ]
  },
  {
   "cell_type": "code",
   "execution_count": 46,
   "metadata": {},
   "outputs": [],
   "source": [
    "#Importing tips dataset from seaborn\n",
    "tips_df = sns.load_dataset('tips')"
   ]
  },
  {
   "cell_type": "code",
   "execution_count": 47,
   "metadata": {},
   "outputs": [
    {
     "name": "stdout",
     "output_type": "stream",
     "text": [
      "     total_bill   tip     sex smoker   day    time  size  tip_percent\n",
      "0         16.99  1.01  Female     No   Sun  Dinner     2          6.0\n",
      "1         10.34  1.66    Male     No   Sun  Dinner     3         16.0\n",
      "2         21.01  3.50    Male     No   Sun  Dinner     3         17.0\n",
      "3         23.68  3.31    Male     No   Sun  Dinner     2         14.0\n",
      "4         24.59  3.61  Female     No   Sun  Dinner     4         15.0\n",
      "..          ...   ...     ...    ...   ...     ...   ...          ...\n",
      "239       29.03  5.92    Male     No   Sat  Dinner     3         20.0\n",
      "240       27.18  2.00  Female    Yes   Sat  Dinner     2          7.0\n",
      "241       22.67  2.00    Male    Yes   Sat  Dinner     2          9.0\n",
      "242       17.82  1.75    Male     No   Sat  Dinner     2         10.0\n",
      "243       18.78  3.00  Female     No  Thur  Dinner     2         16.0\n",
      "\n",
      "[244 rows x 8 columns]\n"
     ]
    }
   ],
   "source": [
    "#3.1 Calculated and added tip percentage column\n",
    "tips_df['tip_percent'] = round(tips_df['tip']/tips_df['total_bill'],2)*100\n",
    "print(tips_df)"
   ]
  },
  {
   "cell_type": "code",
   "execution_count": 48,
   "metadata": {},
   "outputs": [
    {
     "data": {
      "text/plain": [
       "day\n",
       "Thur    17.682742\n",
       "Fri     17.151579\n",
       "Sat     20.441379\n",
       "Sun     21.410000\n",
       "Name: total_bill, dtype: float64"
      ]
     },
     "execution_count": 48,
     "metadata": {},
     "output_type": "execute_result"
    }
   ],
   "source": [
    "#3.2 Group By day to find Sunday has the highest mean bill total\n",
    "tips_df.groupby(['day'])['total_bill'].mean()"
   ]
  },
  {
   "cell_type": "code",
   "execution_count": 49,
   "metadata": {},
   "outputs": [
    {
     "ename": "SyntaxError",
     "evalue": "unexpected EOF while parsing (<ipython-input-49-cfde1b551cee>, line 5)",
     "output_type": "error",
     "traceback": [
      "\u001b[1;36m  File \u001b[1;32m\"<ipython-input-49-cfde1b551cee>\"\u001b[1;36m, line \u001b[1;32m5\u001b[0m\n\u001b[1;33m    print(tips_df['smoker']\u001b[0m\n\u001b[1;37m                           ^\u001b[0m\n\u001b[1;31mSyntaxError\u001b[0m\u001b[1;31m:\u001b[0m unexpected EOF while parsing\n"
     ]
    }
   ],
   "source": [
    "#3.3 Creating two dataframes and joining to compare results ??????STILL IN WORKS!!!!! \n",
    "#print(tips_df.groupby(['time'],as_index=False)['size'].sum())\n",
    "tips_df.groupby(['smoker'],as_index=False)['time'].count()\n",
    "#tips_df.groupby(['time'],as_index=False)['smoker'].count()\n",
    "print(tips_df['smoker'])"
   ]
  },
  {
   "cell_type": "code",
   "execution_count": null,
   "metadata": {},
   "outputs": [],
   "source": [
    "# Missing 3.4, 3.5"
   ]
  },
  {
   "cell_type": "markdown",
   "metadata": {},
   "source": [
    "QUESTION 4"
   ]
  },
  {
   "cell_type": "code",
   "execution_count": null,
   "metadata": {},
   "outputs": [],
   "source": [
    "#Set filepath for avocado.csv\n",
    "avocadoFP = '../src/data/module3Data/avocado.csv'"
   ]
  },
  {
   "cell_type": "code",
   "execution_count": null,
   "metadata": {},
   "outputs": [],
   "source": [
    "#Import Avocado.csv using Pandas\n",
    "avocado = pd.read_csv(avocadoFP)"
   ]
  },
  {
   "cell_type": "code",
   "execution_count": null,
   "metadata": {},
   "outputs": [
    {
     "data": {
      "text/plain": [
       "Date            176\n",
       "AveragePrice    184\n",
       "TotalVolume     192\n",
       "Small           194\n",
       "Large           178\n",
       "AllSizes        184\n",
       "TotalBags       184\n",
       "Type            204\n",
       "Year            196\n",
       "Region          169\n",
       "dtype: int64"
      ]
     },
     "execution_count": 19,
     "metadata": {},
     "output_type": "execute_result"
    }
   ],
   "source": [
    "#4.1 Displaying total amount of missing values and handling the missing values\n",
    "avocado.isnull().sum()"
   ]
  }
 ],
 "metadata": {
  "interpreter": {
   "hash": "f9b8210a67d4a5b974f0633f975e29130ba799535bb14bbb888dd93393bdb865"
  },
  "kernelspec": {
   "display_name": "Python 3.8.8 64-bit ('base': conda)",
   "language": "python",
   "name": "python3"
  },
  "language_info": {
   "codemirror_mode": {
    "name": "ipython",
    "version": 3
   },
   "file_extension": ".py",
   "mimetype": "text/x-python",
   "name": "python",
   "nbconvert_exporter": "python",
   "pygments_lexer": "ipython3",
   "version": "3.8.8"
  },
  "orig_nbformat": 4
 },
 "nbformat": 4,
 "nbformat_minor": 2
}
