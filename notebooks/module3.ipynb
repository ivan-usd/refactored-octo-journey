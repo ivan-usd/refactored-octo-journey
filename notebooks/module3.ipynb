{
 "cells": [
  {
   "cell_type": "markdown",
   "metadata": {},
   "source": [
    "Importing Python Packages"
   ]
  },
  {
   "cell_type": "code",
   "execution_count": 1,
   "metadata": {},
   "outputs": [],
   "source": [
    "#Importing python packages\n",
    "import numpy as np\n",
    "import pandas as pd\n",
    "import matplotlib as mpl\n",
    "import matplotlib.pyplot as plt\n",
    "import seaborn as sns"
   ]
  },
  {
   "cell_type": "code",
   "execution_count": 2,
   "metadata": {},
   "outputs": [
    {
     "data": {
      "text/plain": [
       "'/Users/ivan/Desktop/Data Science/ads-500b/notebooks'"
      ]
     },
     "execution_count": 2,
     "metadata": {},
     "output_type": "execute_result"
    }
   ],
   "source": [
    "%pwd"
   ]
  },
  {
   "cell_type": "markdown",
   "metadata": {},
   "source": [
    "QUESTION 1"
   ]
  },
  {
   "cell_type": "code",
   "execution_count": 3,
   "metadata": {},
   "outputs": [],
   "source": [
    "#Setting Variables for question 1\n",
    "weightsFP = '../data/module3Data/weights.tsv'\n",
    "POUND_KILO = 0.453592"
   ]
  },
  {
   "cell_type": "markdown",
   "metadata": {},
   "source": [
    "1.1. Import the data from the file weights.tsv into a Pandas Series object in Python.\n",
    "(4 points)"
   ]
  },
  {
   "cell_type": "code",
   "execution_count": 4,
   "metadata": {},
   "outputs": [
    {
     "data": {
      "text/html": [
       "<div>\n",
       "<style scoped>\n",
       "    .dataframe tbody tr th:only-of-type {\n",
       "        vertical-align: middle;\n",
       "    }\n",
       "\n",
       "    .dataframe tbody tr th {\n",
       "        vertical-align: top;\n",
       "    }\n",
       "\n",
       "    .dataframe thead th {\n",
       "        text-align: right;\n",
       "    }\n",
       "</style>\n",
       "<table border=\"1\" class=\"dataframe\">\n",
       "  <thead>\n",
       "    <tr style=\"text-align: right;\">\n",
       "      <th></th>\n",
       "      <th>Pounds</th>\n",
       "    </tr>\n",
       "  </thead>\n",
       "  <tbody>\n",
       "    <tr>\n",
       "      <th>0</th>\n",
       "      <td>164</td>\n",
       "    </tr>\n",
       "    <tr>\n",
       "      <th>1</th>\n",
       "      <td>158</td>\n",
       "    </tr>\n",
       "    <tr>\n",
       "      <th>2</th>\n",
       "      <td>172</td>\n",
       "    </tr>\n",
       "    <tr>\n",
       "      <th>3</th>\n",
       "      <td>153</td>\n",
       "    </tr>\n",
       "    <tr>\n",
       "      <th>4</th>\n",
       "      <td>144</td>\n",
       "    </tr>\n",
       "    <tr>\n",
       "      <th>5</th>\n",
       "      <td>156</td>\n",
       "    </tr>\n",
       "    <tr>\n",
       "      <th>6</th>\n",
       "      <td>189</td>\n",
       "    </tr>\n",
       "    <tr>\n",
       "      <th>7</th>\n",
       "      <td>163</td>\n",
       "    </tr>\n",
       "    <tr>\n",
       "      <th>8</th>\n",
       "      <td>134</td>\n",
       "    </tr>\n",
       "    <tr>\n",
       "      <th>9</th>\n",
       "      <td>159</td>\n",
       "    </tr>\n",
       "    <tr>\n",
       "      <th>10</th>\n",
       "      <td>143</td>\n",
       "    </tr>\n",
       "    <tr>\n",
       "      <th>11</th>\n",
       "      <td>176</td>\n",
       "    </tr>\n",
       "    <tr>\n",
       "      <th>12</th>\n",
       "      <td>177</td>\n",
       "    </tr>\n",
       "    <tr>\n",
       "      <th>13</th>\n",
       "      <td>162</td>\n",
       "    </tr>\n",
       "    <tr>\n",
       "      <th>14</th>\n",
       "      <td>141</td>\n",
       "    </tr>\n",
       "    <tr>\n",
       "      <th>15</th>\n",
       "      <td>151</td>\n",
       "    </tr>\n",
       "    <tr>\n",
       "      <th>16</th>\n",
       "      <td>182</td>\n",
       "    </tr>\n",
       "    <tr>\n",
       "      <th>17</th>\n",
       "      <td>185</td>\n",
       "    </tr>\n",
       "    <tr>\n",
       "      <th>18</th>\n",
       "      <td>171</td>\n",
       "    </tr>\n",
       "    <tr>\n",
       "      <th>19</th>\n",
       "      <td>152</td>\n",
       "    </tr>\n",
       "  </tbody>\n",
       "</table>\n",
       "</div>"
      ],
      "text/plain": [
       "    Pounds\n",
       "0      164\n",
       "1      158\n",
       "2      172\n",
       "3      153\n",
       "4      144\n",
       "5      156\n",
       "6      189\n",
       "7      163\n",
       "8      134\n",
       "9      159\n",
       "10     143\n",
       "11     176\n",
       "12     177\n",
       "13     162\n",
       "14     141\n",
       "15     151\n",
       "16     182\n",
       "17     185\n",
       "18     171\n",
       "19     152"
      ]
     },
     "execution_count": 4,
     "metadata": {},
     "output_type": "execute_result"
    }
   ],
   "source": [
    "#1.1 Import TSV file Weights using Pandas package\n",
    "weights = pd.read_csv(weightsFP, sep='\\t', header=None)\n",
    "weights.columns = ['Pounds']\n",
    "weights"
   ]
  },
  {
   "cell_type": "markdown",
   "metadata": {},
   "source": [
    "Imported using pandas read_csv() method and specified values were tab seperated (sep='\\t')"
   ]
  },
  {
   "cell_type": "markdown",
   "metadata": {},
   "source": [
    "1.2. Create a new series object with weights converted to kilograms from pounds (1\n",
    "pound = 0.453592 kilograms). Round the results to two decimal places.\n",
    "(4 points)"
   ]
  },
  {
   "cell_type": "code",
   "execution_count": 5,
   "metadata": {},
   "outputs": [
    {
     "data": {
      "text/html": [
       "<div>\n",
       "<style scoped>\n",
       "    .dataframe tbody tr th:only-of-type {\n",
       "        vertical-align: middle;\n",
       "    }\n",
       "\n",
       "    .dataframe tbody tr th {\n",
       "        vertical-align: top;\n",
       "    }\n",
       "\n",
       "    .dataframe thead th {\n",
       "        text-align: right;\n",
       "    }\n",
       "</style>\n",
       "<table border=\"1\" class=\"dataframe\">\n",
       "  <thead>\n",
       "    <tr style=\"text-align: right;\">\n",
       "      <th></th>\n",
       "      <th>Pounds</th>\n",
       "      <th>Kilograms</th>\n",
       "    </tr>\n",
       "  </thead>\n",
       "  <tbody>\n",
       "    <tr>\n",
       "      <th>0</th>\n",
       "      <td>164</td>\n",
       "      <td>74.39</td>\n",
       "    </tr>\n",
       "    <tr>\n",
       "      <th>1</th>\n",
       "      <td>158</td>\n",
       "      <td>71.67</td>\n",
       "    </tr>\n",
       "    <tr>\n",
       "      <th>2</th>\n",
       "      <td>172</td>\n",
       "      <td>78.02</td>\n",
       "    </tr>\n",
       "    <tr>\n",
       "      <th>3</th>\n",
       "      <td>153</td>\n",
       "      <td>69.40</td>\n",
       "    </tr>\n",
       "    <tr>\n",
       "      <th>4</th>\n",
       "      <td>144</td>\n",
       "      <td>65.32</td>\n",
       "    </tr>\n",
       "    <tr>\n",
       "      <th>5</th>\n",
       "      <td>156</td>\n",
       "      <td>70.76</td>\n",
       "    </tr>\n",
       "    <tr>\n",
       "      <th>6</th>\n",
       "      <td>189</td>\n",
       "      <td>85.73</td>\n",
       "    </tr>\n",
       "    <tr>\n",
       "      <th>7</th>\n",
       "      <td>163</td>\n",
       "      <td>73.94</td>\n",
       "    </tr>\n",
       "    <tr>\n",
       "      <th>8</th>\n",
       "      <td>134</td>\n",
       "      <td>60.78</td>\n",
       "    </tr>\n",
       "    <tr>\n",
       "      <th>9</th>\n",
       "      <td>159</td>\n",
       "      <td>72.12</td>\n",
       "    </tr>\n",
       "    <tr>\n",
       "      <th>10</th>\n",
       "      <td>143</td>\n",
       "      <td>64.86</td>\n",
       "    </tr>\n",
       "    <tr>\n",
       "      <th>11</th>\n",
       "      <td>176</td>\n",
       "      <td>79.83</td>\n",
       "    </tr>\n",
       "    <tr>\n",
       "      <th>12</th>\n",
       "      <td>177</td>\n",
       "      <td>80.29</td>\n",
       "    </tr>\n",
       "    <tr>\n",
       "      <th>13</th>\n",
       "      <td>162</td>\n",
       "      <td>73.48</td>\n",
       "    </tr>\n",
       "    <tr>\n",
       "      <th>14</th>\n",
       "      <td>141</td>\n",
       "      <td>63.96</td>\n",
       "    </tr>\n",
       "    <tr>\n",
       "      <th>15</th>\n",
       "      <td>151</td>\n",
       "      <td>68.49</td>\n",
       "    </tr>\n",
       "    <tr>\n",
       "      <th>16</th>\n",
       "      <td>182</td>\n",
       "      <td>82.55</td>\n",
       "    </tr>\n",
       "    <tr>\n",
       "      <th>17</th>\n",
       "      <td>185</td>\n",
       "      <td>83.91</td>\n",
       "    </tr>\n",
       "    <tr>\n",
       "      <th>18</th>\n",
       "      <td>171</td>\n",
       "      <td>77.56</td>\n",
       "    </tr>\n",
       "    <tr>\n",
       "      <th>19</th>\n",
       "      <td>152</td>\n",
       "      <td>68.95</td>\n",
       "    </tr>\n",
       "  </tbody>\n",
       "</table>\n",
       "</div>"
      ],
      "text/plain": [
       "    Pounds  Kilograms\n",
       "0      164      74.39\n",
       "1      158      71.67\n",
       "2      172      78.02\n",
       "3      153      69.40\n",
       "4      144      65.32\n",
       "5      156      70.76\n",
       "6      189      85.73\n",
       "7      163      73.94\n",
       "8      134      60.78\n",
       "9      159      72.12\n",
       "10     143      64.86\n",
       "11     176      79.83\n",
       "12     177      80.29\n",
       "13     162      73.48\n",
       "14     141      63.96\n",
       "15     151      68.49\n",
       "16     182      82.55\n",
       "17     185      83.91\n",
       "18     171      77.56\n",
       "19     152      68.95"
      ]
     },
     "execution_count": 5,
     "metadata": {},
     "output_type": "execute_result"
    }
   ],
   "source": [
    "#1.2 Convert Pounds to Kilogram and round to 2 decimal places\n",
    "weights['Kilograms'] = round(weights * POUND_KILO,2)\n",
    "weights"
   ]
  },
  {
   "cell_type": "markdown",
   "metadata": {},
   "source": [
    "1.3. Find the mean, median, and standard deviation of both series objects using\n",
    "Pandas functions. (4 points)"
   ]
  },
  {
   "cell_type": "code",
   "execution_count": 6,
   "metadata": {},
   "outputs": [
    {
     "name": "stdout",
     "output_type": "stream",
     "text": [
      "Mean for Pounds: 161.6 \n",
      "Mean for Kilograms: 73.3 \n",
      "Median Pounds: 160.5 \n",
      "Median Kilograms: 72.8 \n",
      "STD Pounds 15.06 \n",
      "STD Kilograms: 6.83\n"
     ]
    }
   ],
   "source": [
    "#1.3 Find Mean, Median, and STD of both series objects using Numpy package\n",
    "Mean = round(np.mean(weights),2)\n",
    "poundsMedian = round(np.median(weights.Pounds),2)\n",
    "kiloMedian = round(np.median(weights.Kilograms),2)\n",
    "STD = round(np.std(weights),2)\n",
    "print('Mean for Pounds: '+str(Mean['Pounds']),'\\nMean for Kilograms: '+str(Mean['Kilograms']),\n",
    "    '\\nMedian Pounds: '+str(poundsMedian),'\\nMedian Kilograms: '+str(kiloMedian),'\\nSTD Pounds '+str(STD['Pounds']),\n",
    "    '\\nSTD Kilograms: '+str(STD['Kilograms']))"
   ]
  },
  {
   "cell_type": "markdown",
   "metadata": {},
   "source": [
    "1.4. Plot a histogram of weight (in kilograms) using matplotlib library with 10 bins.\n",
    "(4 points)"
   ]
  },
  {
   "cell_type": "code",
   "execution_count": 7,
   "metadata": {},
   "outputs": [
    {
     "data": {
      "image/png": "[encoded data removed]",
      "text/plain": [
       "<Figure size 720x504 with 1 Axes>"
      ]
     },
     "metadata": {
      "needs_background": "light"
     },
     "output_type": "display_data"
    }
   ],
   "source": [
    "# 1.4 Plotting Histogram for Kilograms using matplotlib.pyplot package\n",
    "plt.figure(figsize=(10,7))\n",
    "hist1, edges1 = np.histogram(weights['Kilograms'], bins=10)\n",
    "plt.title('Histogram for Weight in Kilograms')\n",
    "plt.bar(edges1[:-1], hist1, width=edges1[1:]-edges1[:-1])\n",
    "plt.show()"
   ]
  },
  {
   "cell_type": "markdown",
   "metadata": {},
   "source": [
    "Used Matplot library to plot the histogram and adjusted the number of bins using (bins=10)"
   ]
  },
  {
   "cell_type": "markdown",
   "metadata": {},
   "source": [
    "QUESTION 2"
   ]
  },
  {
   "cell_type": "markdown",
   "metadata": {},
   "source": [
    "2.1. Import the dataset “boston.csv” into a Pandas dataframe and obtain the number\n",
    "of rows and columns for the dataframe. (3 points)"
   ]
  },
  {
   "cell_type": "code",
   "execution_count": 8,
   "metadata": {},
   "outputs": [],
   "source": [
    "#Setting variables\n",
    "bostonFP = '../data/module3Data/boston.csv'"
   ]
  },
  {
   "cell_type": "code",
   "execution_count": 9,
   "metadata": {},
   "outputs": [
    {
     "name": "stdout",
     "output_type": "stream",
     "text": [
      "Number of Rows: 506\n",
      "Number of Columns: 13\n"
     ]
    }
   ],
   "source": [
    "# #2.1 Import boston file using pandas and use the shape attribute\n",
    "boston = pd.read_csv(bostonFP)\n",
    "print(f'Number of Rows: {boston.shape[0]}\\nNumber of Columns: {boston.shape[1]}')"
   ]
  },
  {
   "cell_type": "markdown",
   "metadata": {},
   "source": [
    "The .shape method provides information regarding the dataframe such as number of rows and columns"
   ]
  },
  {
   "cell_type": "markdown",
   "metadata": {},
   "source": [
    "2.2. What is the owner-occupied home value (MEDV) for the lowest nitric oxide\n",
    "concentration (NOX) from the dataframe? (3 points)"
   ]
  },
  {
   "cell_type": "code",
   "execution_count": 10,
   "metadata": {},
   "outputs": [
    {
     "name": "stdout",
     "output_type": "stream",
     "text": [
      "Owner occupied home value for lowest nitric oxide concentration is: 20.1\n"
     ]
    }
   ],
   "source": [
    "#2.2 Grabbing row with lowest NOX concentration using loc, then printing out the value of MEDV column for that row\n",
    "noxMinRow = boston.loc[boston['NOX'] == boston['NOX'].min()]\n",
    "print(f\"Owner occupied home value for lowest nitric oxide concentration is: {noxMinRow['MEDV'].values[0]}\")"
   ]
  },
  {
   "cell_type": "markdown",
   "metadata": {},
   "source": [
    "Grab the row with with lowest NOX value using the .min() method"
   ]
  },
  {
   "cell_type": "markdown",
   "metadata": {},
   "source": [
    "2.3. Create a boxplot of per capita crime rate (CRIM) using Matplotlib. Obtain the\n",
    "interquartile range for crime rate (CRIM) using Pandas functions. (4 points)"
   ]
  },
  {
   "cell_type": "code",
   "execution_count": 11,
   "metadata": {},
   "outputs": [
    {
     "data": {
      "image/png": "[encoded data removed]",
      "text/plain": [
       "<Figure size 720x504 with 1 Axes>"
      ]
     },
     "metadata": {
      "needs_background": "light"
     },
     "output_type": "display_data"
    },
    {
     "name": "stdout",
     "output_type": "stream",
     "text": [
      "The CRIM IQR is: 3.5950375\n"
     ]
    }
   ],
   "source": [
    "#2.3 Creating boxplot using matplotlib and finding IQR using Pandas quantile attributes\n",
    "plt.figure(figsize=(10,7))\n",
    "plt.boxplot(boston['CRIM'])\n",
    "plt.title('Per Capita Crime Rate')\n",
    "plt.show()\n",
    "bostonIQR = boston['CRIM'].quantile(0.75)-boston['CRIM'].quantile(0.25)\n",
    "print(f'The CRIM IQR is: {bostonIQR}')"
   ]
  },
  {
   "cell_type": "markdown",
   "metadata": {},
   "source": [
    "Created the boxplot and got the IQR by subtracting the 75 and 25 quantiles"
   ]
  },
  {
   "cell_type": "markdown",
   "metadata": {},
   "source": [
    "2.4. Subset all columns of the dataframe for rows with outliers of crime rate into a new\n",
    "dataframe. Compare the mean of AGE between the two dataframes with respect\n",
    "to crime rate, what do you interpret? (Hint: Outliers exist 1.5 times of interquartile\n",
    "range above third quartile and below first quartile) (4 points)"
   ]
  },
  {
   "cell_type": "code",
   "execution_count": 12,
   "metadata": {},
   "outputs": [
    {
     "name": "stdout",
     "output_type": "stream",
     "text": [
      "bostonDF Mean Age: 68.57 \n",
      "OutlierDF Mean Age: 93.38\n"
     ]
    }
   ],
   "source": [
    "#2.4 Subsetting outliers and comparing mean Age\n",
    "IQRdataBoston = boston['CRIM'].describe()\n",
    "outlierCrimeValue = round(IQRdataBoston[6]+bostonIQR,2)\n",
    "outlierBostonDf = boston[boston['CRIM'].gt(outlierCrimeValue)] \n",
    "print('bostonDF Mean Age: '+str(round(boston['AGE'].mean(),2)),\"\\nOutlierDF Mean Age: \"+str(round(outlierBostonDf['AGE'].mean(),2)))"
   ]
  },
  {
   "cell_type": "markdown",
   "metadata": {},
   "source": [
    "Used the describe method and got the 75% quantile value (IQRdataBoston[6]) then added the previously found IQR to get the outliers. It can be seen from the output that Outlier age is significantly higher. "
   ]
  },
  {
   "cell_type": "markdown",
   "metadata": {},
   "source": [
    "2.5. Create scatterplot between distances to employment centers (DIS) and nitric\n",
    "oxide levels (NOX). Obtain correlation index between the two columns and\n",
    "interpret their relation. (4 points)"
   ]
  },
  {
   "cell_type": "code",
   "execution_count": 13,
   "metadata": {},
   "outputs": [
    {
     "data": {
      "text/plain": [
       "<Figure size 432x288 with 0 Axes>"
      ]
     },
     "metadata": {},
     "output_type": "display_data"
    },
    {
     "data": {
      "image/png": "[encoded data removed]",
      "text/plain": [
       "<Figure size 720x504 with 1 Axes>"
      ]
     },
     "metadata": {
      "needs_background": "light"
     },
     "output_type": "display_data"
    }
   ],
   "source": [
    "#2.5 Creating scatter plot for DIS & NOX\n",
    "scatterFig = plt.figure()\n",
    "plt.figure(figsize=(10,7))\n",
    "plt.scatter(boston['DIS'],boston['NOX'])\n",
    "plt.xlabel('Distances to Employment Centers')\n",
    "plt.ylabel('Nitric Oxides Concentration')\n",
    "plt.title('ScatterPlot between DIS and NOX')\n",
    "plt.show()"
   ]
  },
  {
   "cell_type": "code",
   "execution_count": 14,
   "metadata": {},
   "outputs": [
    {
     "data": {
      "text/html": [
       "<div>\n",
       "<style scoped>\n",
       "    .dataframe tbody tr th:only-of-type {\n",
       "        vertical-align: middle;\n",
       "    }\n",
       "\n",
       "    .dataframe tbody tr th {\n",
       "        vertical-align: top;\n",
       "    }\n",
       "\n",
       "    .dataframe thead th {\n",
       "        text-align: right;\n",
       "    }\n",
       "</style>\n",
       "<table border=\"1\" class=\"dataframe\">\n",
       "  <thead>\n",
       "    <tr style=\"text-align: right;\">\n",
       "      <th></th>\n",
       "      <th>DIS</th>\n",
       "      <th>NOX</th>\n",
       "    </tr>\n",
       "  </thead>\n",
       "  <tbody>\n",
       "    <tr>\n",
       "      <th>DIS</th>\n",
       "      <td>1.00000</td>\n",
       "      <td>-0.76923</td>\n",
       "    </tr>\n",
       "    <tr>\n",
       "      <th>NOX</th>\n",
       "      <td>-0.76923</td>\n",
       "      <td>1.00000</td>\n",
       "    </tr>\n",
       "  </tbody>\n",
       "</table>\n",
       "</div>"
      ],
      "text/plain": [
       "         DIS      NOX\n",
       "DIS  1.00000 -0.76923\n",
       "NOX -0.76923  1.00000"
      ]
     },
     "execution_count": 14,
     "metadata": {},
     "output_type": "execute_result"
    }
   ],
   "source": [
    "boston.loc[:,['DIS','NOX']].corr()"
   ]
  },
  {
   "cell_type": "markdown",
   "metadata": {},
   "source": [
    "From the scatter plot it can be seen that there is a slight negative correlation between Distance and Nictric Oxides"
   ]
  },
  {
   "cell_type": "markdown",
   "metadata": {},
   "source": [
    "2.6. Similarly, create a scatterplot between highway accessibility index (RAD) and\n",
    "property tax rate (TAX). Obtain correlation index, compare it to the scatter-plot,\n",
    "and interpret the relation between RAD and TAX. Take appropriate action on the\n",
    "data based on your observation. (6 points)"
   ]
  },
  {
   "cell_type": "code",
   "execution_count": 15,
   "metadata": {},
   "outputs": [
    {
     "data": {
      "text/plain": [
       "<Figure size 432x288 with 0 Axes>"
      ]
     },
     "metadata": {},
     "output_type": "display_data"
    },
    {
     "data": {
      "image/png": "[encoded data removed]",
      "text/plain": [
       "<Figure size 720x504 with 1 Axes>"
      ]
     },
     "metadata": {
      "needs_background": "light"
     },
     "output_type": "display_data"
    },
    {
     "data": {
      "text/html": [
       "<div>\n",
       "<style scoped>\n",
       "    .dataframe tbody tr th:only-of-type {\n",
       "        vertical-align: middle;\n",
       "    }\n",
       "\n",
       "    .dataframe tbody tr th {\n",
       "        vertical-align: top;\n",
       "    }\n",
       "\n",
       "    .dataframe thead th {\n",
       "        text-align: right;\n",
       "    }\n",
       "</style>\n",
       "<table border=\"1\" class=\"dataframe\">\n",
       "  <thead>\n",
       "    <tr style=\"text-align: right;\">\n",
       "      <th></th>\n",
       "      <th>RAD</th>\n",
       "      <th>TAX</th>\n",
       "    </tr>\n",
       "  </thead>\n",
       "  <tbody>\n",
       "    <tr>\n",
       "      <th>RAD</th>\n",
       "      <td>1.000000</td>\n",
       "      <td>0.910228</td>\n",
       "    </tr>\n",
       "    <tr>\n",
       "      <th>TAX</th>\n",
       "      <td>0.910228</td>\n",
       "      <td>1.000000</td>\n",
       "    </tr>\n",
       "  </tbody>\n",
       "</table>\n",
       "</div>"
      ],
      "text/plain": [
       "          RAD       TAX\n",
       "RAD  1.000000  0.910228\n",
       "TAX  0.910228  1.000000"
      ]
     },
     "execution_count": 15,
     "metadata": {},
     "output_type": "execute_result"
    }
   ],
   "source": [
    "#2.6 Displaying scatterplot and correlation values for RAD & TAX\n",
    "scatterFig = plt.figure()\n",
    "plt.figure(figsize=(10,7))\n",
    "plt.scatter(boston['RAD'],boston['TAX'])\n",
    "plt.xlabel('Highway Accesssibility Index')\n",
    "plt.ylabel('Property Tax Rate')\n",
    "plt.title('ScatterPlot between RAD and TAX')\n",
    "plt.show()\n",
    "\n",
    "boston.loc[:,['RAD','TAX']].corr()"
   ]
  },
  {
   "cell_type": "markdown",
   "metadata": {},
   "source": [
    "Property Tax and Highway Accessibility have a strong positive correlation based on this scatter plot."
   ]
  },
  {
   "cell_type": "markdown",
   "metadata": {},
   "source": [
    "QUESTION 3"
   ]
  },
  {
   "cell_type": "markdown",
   "metadata": {},
   "source": [
    "3.1. Calculate percentage of tip amounts for bill totals, rounded to two decimal places\n",
    "and create a new column “tip_percent” in the same dataframe. (3 points)"
   ]
  },
  {
   "cell_type": "code",
   "execution_count": 16,
   "metadata": {},
   "outputs": [
    {
     "name": "stdout",
     "output_type": "stream",
     "text": [
      "244\n"
     ]
    }
   ],
   "source": [
    "#Importing tips dataset from seaborn\n",
    "tips_df = sns.load_dataset('tips')\n",
    "print(tips_df['smoker'].count())"
   ]
  },
  {
   "cell_type": "code",
   "execution_count": 17,
   "metadata": {},
   "outputs": [
    {
     "name": "stdout",
     "output_type": "stream",
     "text": [
      "     total_bill   tip     sex smoker   day    time  size  tip_percent\n",
      "0         16.99  1.01  Female     No   Sun  Dinner     2         5.94\n",
      "1         10.34  1.66    Male     No   Sun  Dinner     3        16.05\n",
      "2         21.01  3.50    Male     No   Sun  Dinner     3        16.66\n",
      "3         23.68  3.31    Male     No   Sun  Dinner     2        13.98\n",
      "4         24.59  3.61  Female     No   Sun  Dinner     4        14.68\n",
      "..          ...   ...     ...    ...   ...     ...   ...          ...\n",
      "239       29.03  5.92    Male     No   Sat  Dinner     3        20.39\n",
      "240       27.18  2.00  Female    Yes   Sat  Dinner     2         7.36\n",
      "241       22.67  2.00    Male    Yes   Sat  Dinner     2         8.82\n",
      "242       17.82  1.75    Male     No   Sat  Dinner     2         9.82\n",
      "243       18.78  3.00  Female     No  Thur  Dinner     2        15.97\n",
      "\n",
      "[244 rows x 8 columns]\n"
     ]
    }
   ],
   "source": [
    "#3.1 Calculated and added tip percentage column\n",
    "tips_df['tip_percent'] = round(tips_df['tip']/tips_df['total_bill']*100,2)\n",
    "print(tips_df)"
   ]
  },
  {
   "cell_type": "markdown",
   "metadata": {},
   "source": [
    "3.2. For what days in the week do we have the data, and which day has the highest\n",
    "bill mean? (Hint: lookup for “groupby” in pandas documentation) (3 points)"
   ]
  },
  {
   "cell_type": "code",
   "execution_count": 18,
   "metadata": {},
   "outputs": [
    {
     "data": {
      "text/html": [
       "<div>\n",
       "<style scoped>\n",
       "    .dataframe tbody tr th:only-of-type {\n",
       "        vertical-align: middle;\n",
       "    }\n",
       "\n",
       "    .dataframe tbody tr th {\n",
       "        vertical-align: top;\n",
       "    }\n",
       "\n",
       "    .dataframe thead th {\n",
       "        text-align: right;\n",
       "    }\n",
       "</style>\n",
       "<table border=\"1\" class=\"dataframe\">\n",
       "  <thead>\n",
       "    <tr style=\"text-align: right;\">\n",
       "      <th></th>\n",
       "      <th>day</th>\n",
       "      <th>total_bill</th>\n",
       "    </tr>\n",
       "  </thead>\n",
       "  <tbody>\n",
       "    <tr>\n",
       "      <th>0</th>\n",
       "      <td>Thur</td>\n",
       "      <td>17.68</td>\n",
       "    </tr>\n",
       "    <tr>\n",
       "      <th>1</th>\n",
       "      <td>Fri</td>\n",
       "      <td>17.15</td>\n",
       "    </tr>\n",
       "    <tr>\n",
       "      <th>2</th>\n",
       "      <td>Sat</td>\n",
       "      <td>20.44</td>\n",
       "    </tr>\n",
       "    <tr>\n",
       "      <th>3</th>\n",
       "      <td>Sun</td>\n",
       "      <td>21.41</td>\n",
       "    </tr>\n",
       "  </tbody>\n",
       "</table>\n",
       "</div>"
      ],
      "text/plain": [
       "    day  total_bill\n",
       "0  Thur       17.68\n",
       "1   Fri       17.15\n",
       "2   Sat       20.44\n",
       "3   Sun       21.41"
      ]
     },
     "execution_count": 18,
     "metadata": {},
     "output_type": "execute_result"
    }
   ],
   "source": [
    "#3.2 Group By day to find Sunday has the highest mean bill total\n",
    "round(tips_df.groupby(['day'],as_index=False)['total_bill'].mean(),2)"
   ]
  },
  {
   "cell_type": "markdown",
   "metadata": {},
   "source": [
    "Used GroupBy method to find that Sunday has the highest bill mean of 21.41"
   ]
  },
  {
   "cell_type": "markdown",
   "metadata": {},
   "source": [
    "3.3. Are there more dinners or lunches? Create a dataframe with this data. Are there\n",
    "more smokers during lunches or dinners? Create another dataframe with this\n",
    "data. Join the two dataframes by time of day and calculate the percent of\n",
    "smokers at lunch and dinner. Compare the results. (6 points)"
   ]
  },
  {
   "cell_type": "code",
   "execution_count": 19,
   "metadata": {},
   "outputs": [
    {
     "data": {
      "text/html": [
       "<div>\n",
       "<style scoped>\n",
       "    .dataframe tbody tr th:only-of-type {\n",
       "        vertical-align: middle;\n",
       "    }\n",
       "\n",
       "    .dataframe tbody tr th {\n",
       "        vertical-align: top;\n",
       "    }\n",
       "\n",
       "    .dataframe thead th {\n",
       "        text-align: right;\n",
       "    }\n",
       "</style>\n",
       "<table border=\"1\" class=\"dataframe\">\n",
       "  <thead>\n",
       "    <tr style=\"text-align: right;\">\n",
       "      <th></th>\n",
       "      <th>time</th>\n",
       "      <th>size</th>\n",
       "      <th>smoker</th>\n",
       "      <th>smoker_percent</th>\n",
       "    </tr>\n",
       "  </thead>\n",
       "  <tbody>\n",
       "    <tr>\n",
       "      <th>0</th>\n",
       "      <td>Lunch</td>\n",
       "      <td>164</td>\n",
       "      <td>23</td>\n",
       "      <td>14.02</td>\n",
       "    </tr>\n",
       "    <tr>\n",
       "      <th>1</th>\n",
       "      <td>Dinner</td>\n",
       "      <td>463</td>\n",
       "      <td>70</td>\n",
       "      <td>15.12</td>\n",
       "    </tr>\n",
       "  </tbody>\n",
       "</table>\n",
       "</div>"
      ],
      "text/plain": [
       "     time  size  smoker  smoker_percent\n",
       "0   Lunch   164      23           14.02\n",
       "1  Dinner   463      70           15.12"
      ]
     },
     "execution_count": 19,
     "metadata": {},
     "output_type": "execute_result"
    }
   ],
   "source": [
    "#3.3 Creating two dataframes and joining to compare results\n",
    "groupByTimeDF = tips_df.groupby(['time'],as_index=False)['size'].sum()\n",
    "\n",
    "subsetSmoker = tips_df[tips_df['smoker']=='Yes']\n",
    "\n",
    "groupBySmokerDF = subsetSmoker.groupby(['time'],as_index=False)['smoker'].count()\n",
    "\n",
    "joinedGroupBy = groupByTimeDF.join(groupBySmokerDF.set_index('time'),on='time')\n",
    "\n",
    "joinedGroupBy['smoker_percent'] = round(joinedGroupBy['smoker']/joinedGroupBy['size']*100,2)\n",
    "\n",
    "joinedGroupBy\n"
   ]
  },
  {
   "cell_type": "markdown",
   "metadata": {},
   "source": [
    "There are more dinners than lunches, for smokers I subsetted the data to only include smokers (subsetSmoker). I then grouped the subset smoker data by time and joined both columns using the .join() method. Initally i thought smokers would have a higher percent since they account for more in the Dinner time, but when percents were calculated both Lunch and Dinner were fairly close percentage wise.   "
   ]
  },
  {
   "cell_type": "markdown",
   "metadata": {},
   "source": [
    "3.4. Using the boxplot function from seaborn package, create plots on “tip” column for\n",
    "Male and Female from “sex” column. Compare the boxplots and provide your\n",
    "interpretation on outliers between males and females. (4 points)"
   ]
  },
  {
   "cell_type": "code",
   "execution_count": 20,
   "metadata": {},
   "outputs": [
    {
     "data": {
      "image/png": "[encoded data removed]",
      "text/plain": [
       "<Figure size 720x504 with 1 Axes>"
      ]
     },
     "metadata": {},
     "output_type": "display_data"
    }
   ],
   "source": [
    "#3.4 Using seaborn boxplot package\n",
    "sns.set(rc={'figure.figsize':(10,7)})\n",
    "tipByGender = sns.boxplot(x=\"sex\", y=\"tip\", data=tips_df)"
   ]
  },
  {
   "cell_type": "markdown",
   "metadata": {},
   "source": [
    "Based on the boxplots Males have a wider variance with a higher amount of outliers than Female tippers. "
   ]
  },
  {
   "cell_type": "markdown",
   "metadata": {},
   "source": [
    "3.5. Create the same boxplots as above for “tip_percent” and “sex”, for tip percent\n",
    "below 70. Now compare the boxplots between male and female, which boxplot\n",
    "has more outliers and which one is more symmetric? (4 points)"
   ]
  },
  {
   "cell_type": "code",
   "execution_count": 21,
   "metadata": {},
   "outputs": [
    {
     "data": {
      "image/png": "[encoded data removed]",
      "text/plain": [
       "<Figure size 720x504 with 1 Axes>"
      ]
     },
     "metadata": {},
     "output_type": "display_data"
    }
   ],
   "source": [
    "#3.5 Male & Female Tip Percent boxplot\n",
    "sns.set(rc={'figure.figsize':(10,7)})\n",
    "subsetTipPercent = tips_df[tips_df['tip_percent']<70]\n",
    "tipPercentByGender = sns.boxplot(x=\"sex\", y=\"tip_percent\", data=subsetTipPercent)"
   ]
  },
  {
   "cell_type": "markdown",
   "metadata": {},
   "source": [
    "When removing the outliers it can be seen that Females do have more outliers than Males. Additonally the removal of the outliers did create a more symmetric boxplot for the Male group. "
   ]
  },
  {
   "cell_type": "markdown",
   "metadata": {},
   "source": [
    "QUESTION 4"
   ]
  },
  {
   "cell_type": "markdown",
   "metadata": {},
   "source": [
    "4.1. Import the dataset file into a Pandas dataframe and identify the count of missing\n",
    "values per column. Handle missing values based on column type and explain\n",
    "your reasons behind selecting appropriate techniques. (8 points)"
   ]
  },
  {
   "cell_type": "code",
   "execution_count": 22,
   "metadata": {},
   "outputs": [],
   "source": [
    "#Set filepath for avocado.csv\n",
    "avocadoFP = '../data/module3Data/avocado.csv'"
   ]
  },
  {
   "cell_type": "code",
   "execution_count": 23,
   "metadata": {},
   "outputs": [],
   "source": [
    "#Import Avocado.csv using Pandas\n",
    "avocado = pd.read_csv(avocadoFP)"
   ]
  },
  {
   "cell_type": "code",
   "execution_count": 24,
   "metadata": {},
   "outputs": [
    {
     "data": {
      "text/plain": [
       "Date            176\n",
       "AveragePrice    184\n",
       "TotalVolume     192\n",
       "Small           194\n",
       "Large           178\n",
       "AllSizes        184\n",
       "TotalBags       184\n",
       "Type            204\n",
       "Year            196\n",
       "Region          169\n",
       "dtype: int64"
      ]
     },
     "execution_count": 24,
     "metadata": {},
     "output_type": "execute_result"
    }
   ],
   "source": [
    "#4.1 Displaying total amount of missing values and begin handling the missing values\n",
    "avocado.isnull().sum()"
   ]
  },
  {
   "cell_type": "code",
   "execution_count": 25,
   "metadata": {},
   "outputs": [
    {
     "data": {
      "text/plain": [
       "Date            176\n",
       "AveragePrice    184\n",
       "TotalVolume     192\n",
       "Small           194\n",
       "Large           178\n",
       "AllSizes        184\n",
       "TotalBags       184\n",
       "Type            204\n",
       "Year              2\n",
       "Region          169\n",
       "dtype: int64"
      ]
     },
     "execution_count": 25,
     "metadata": {},
     "output_type": "execute_result"
    }
   ],
   "source": [
    "#Filling Year column by using the year contained in Date column\n",
    "avocado.loc[avocado['Year'].isnull() & avocado['Date'].notnull(), 'Year'] = avocado['Date'].str[:4]\n",
    "avocado.isnull().sum()"
   ]
  },
  {
   "cell_type": "code",
   "execution_count": 26,
   "metadata": {},
   "outputs": [],
   "source": [
    "#Filling TotalVolume using following logic --> TotalVolume = Small + Large + AllSizes + TotalBags\n",
    "avocado.loc[avocado['TotalVolume'].isnull() & avocado['Small'].notnull() & avocado['Large'].notnull() & avocado['AllSizes'].notnull() \n",
    "& avocado['TotalBags'].notnull(), 'TotalVolume'] = avocado['Small'] + avocado['Large'] + avocado['AllSizes'] + avocado['TotalBags']"
   ]
  },
  {
   "cell_type": "code",
   "execution_count": 27,
   "metadata": {},
   "outputs": [],
   "source": [
    "#Filling columns  by taking difference --> ex Small = TotalVolume - Large + AllSizes + TotalBags\n",
    "avocado.loc[avocado['Small'].isnull() & avocado['TotalVolume'].notnull() & avocado['Large'].notnull() & avocado['AllSizes'].notnull() \n",
    "& avocado['TotalBags'].notnull(), 'Small'] = avocado['TotalVolume'] - avocado['Large'] + avocado['AllSizes'] + avocado['TotalBags']\n",
    "\n",
    "avocado.loc[avocado['Large'].isnull() & avocado['TotalVolume'].notnull() & avocado['Small'].notnull() & avocado['AllSizes'].notnull() \n",
    "& avocado['TotalBags'].notnull(), 'Large'] = avocado['TotalVolume'] - avocado['Small'] + avocado['AllSizes'] + avocado['TotalBags']\n",
    "\n",
    "avocado.loc[avocado['AllSizes'].isnull() & avocado['TotalVolume'].notnull() & avocado['Large'].notnull() & avocado['Small'].notnull() \n",
    "& avocado['TotalBags'].notnull(), 'AllSizes'] = avocado['TotalVolume'] - avocado['Large'] + avocado['Small'] + avocado['TotalBags']\n",
    "\n",
    "avocado.loc[avocado['TotalBags'].isnull() & avocado['TotalVolume'].notnull() & avocado['Large'].notnull() & avocado['AllSizes'].notnull() \n",
    "& avocado['Small'].notnull(), 'TotalBags'] = avocado['TotalVolume'] - avocado['Large'] + avocado['AllSizes'] + avocado['Small']"
   ]
  },
  {
   "cell_type": "code",
   "execution_count": 28,
   "metadata": {},
   "outputs": [
    {
     "data": {
      "text/plain": [
       "Type\n",
       "conventional    1.16\n",
       "organic         1.65\n",
       "Name: AveragePrice, dtype: float64"
      ]
     },
     "execution_count": 28,
     "metadata": {},
     "output_type": "execute_result"
    }
   ],
   "source": [
    "#Grabbing the Mean price for avocados based on the Type\n",
    "typeMean = round(avocado.groupby(['Type'])['AveragePrice'].mean(),2)\n",
    "typeMean"
   ]
  },
  {
   "cell_type": "code",
   "execution_count": 29,
   "metadata": {},
   "outputs": [],
   "source": [
    "#Using the typeMean to fill for missing Type value depending on the current AveragePricce at that row\n",
    "avocado.loc[avocado['Type'].isnull() & avocado['AveragePrice'].notnull() & avocado['AveragePrice'].ge(typeMean[1]), 'Type'] = 'organic'\n",
    "avocado.loc[avocado['Type'].isnull() & avocado['AveragePrice'].notnull() & avocado['AveragePrice'].lt(typeMean[1]), 'Type'] = 'conventional'"
   ]
  },
  {
   "cell_type": "code",
   "execution_count": 30,
   "metadata": {},
   "outputs": [],
   "source": [
    "#Using the category field to fill missing AveragePrice fields with the Mean for the specified category\n",
    "avocado.loc[avocado['AveragePrice'].isnull() & avocado['Type'].notnull() & avocado['Type'].eq('organic'), 'AveragePrice'] = typeMean[1]\n",
    "avocado.loc[avocado['AveragePrice'].isnull() & avocado['Type'].notnull() & avocado['Type'].eq('conventional'), 'AveragePrice'] = typeMean[0]"
   ]
  },
  {
   "cell_type": "code",
   "execution_count": 31,
   "metadata": {},
   "outputs": [
    {
     "data": {
      "text/plain": [
       "Date            176\n",
       "AveragePrice      3\n",
       "TotalVolume       7\n",
       "Small             5\n",
       "Large             6\n",
       "AllSizes         10\n",
       "TotalBags        10\n",
       "Type              3\n",
       "Year              2\n",
       "Region          169\n",
       "dtype: int64"
      ]
     },
     "execution_count": 31,
     "metadata": {},
     "output_type": "execute_result"
    }
   ],
   "source": [
    "avocado.isnull().sum()"
   ]
  },
  {
   "cell_type": "code",
   "execution_count": 32,
   "metadata": {},
   "outputs": [
    {
     "data": {
      "text/plain": [
       "17884"
      ]
     },
     "execution_count": 32,
     "metadata": {},
     "output_type": "execute_result"
    }
   ],
   "source": [
    "#After filling as many null values the rest of the missing rows are dropped which are 365 rows or ~2% of the entire dataset\n",
    "avocado = avocado.dropna()\n",
    "avocado.shape[0]"
   ]
  },
  {
   "cell_type": "code",
   "execution_count": 33,
   "metadata": {},
   "outputs": [
    {
     "data": {
      "text/plain": [
       "Date            0\n",
       "AveragePrice    0\n",
       "TotalVolume     0\n",
       "Small           0\n",
       "Large           0\n",
       "AllSizes        0\n",
       "TotalBags       0\n",
       "Type            0\n",
       "Year            0\n",
       "Region          0\n",
       "dtype: int64"
      ]
     },
     "execution_count": 33,
     "metadata": {},
     "output_type": "execute_result"
    }
   ],
   "source": [
    "#All missing values in the dataset have now been addressed and subsetted to a new DataFrame\n",
    "avocado.isnull().sum()"
   ]
  },
  {
   "cell_type": "markdown",
   "metadata": {},
   "source": [
    "I first filled Year by taking the Year off the Date Field for rows which had a null Year and a non null Date Field. I was then able to find that TotalVolume = Small + Large + AllSizes + TotalBags, i used this logic to fill for those columns. I then grabbed the mean average price by Type using the groupby method, and used that value as a check to fill Type depending on the Average Price. Using the Type value I then filled null Average Price fields with the mean price depending on the type. Finally I couldnt find a good way to fill for Date and Region which led me to drop all the remaining na values. A total of 365 rows were dropped that equated to ~2% of the entire dataset."
   ]
  },
  {
   "cell_type": "markdown",
   "metadata": {},
   "source": [
    "4.2. Convert the fields Type, Year and Region to categorical data type and subset the\n",
    "dataframe to exclude region “TotalUS” and “West” and sort the dataframe by date\n",
    "in ascending order. Is the mean price of an avocado higher in 2017 compared to\n",
    "2016? (4 points)"
   ]
  },
  {
   "cell_type": "code",
   "execution_count": 34,
   "metadata": {},
   "outputs": [
    {
     "data": {
      "text/html": [
       "<div>\n",
       "<style scoped>\n",
       "    .dataframe tbody tr th:only-of-type {\n",
       "        vertical-align: middle;\n",
       "    }\n",
       "\n",
       "    .dataframe tbody tr th {\n",
       "        vertical-align: top;\n",
       "    }\n",
       "\n",
       "    .dataframe thead th {\n",
       "        text-align: right;\n",
       "    }\n",
       "</style>\n",
       "<table border=\"1\" class=\"dataframe\">\n",
       "  <thead>\n",
       "    <tr style=\"text-align: right;\">\n",
       "      <th></th>\n",
       "      <th>Date</th>\n",
       "      <th>AveragePrice</th>\n",
       "      <th>TotalVolume</th>\n",
       "      <th>Small</th>\n",
       "      <th>Large</th>\n",
       "      <th>AllSizes</th>\n",
       "      <th>TotalBags</th>\n",
       "      <th>Type</th>\n",
       "      <th>Year</th>\n",
       "      <th>Region</th>\n",
       "    </tr>\n",
       "  </thead>\n",
       "  <tbody>\n",
       "    <tr>\n",
       "      <th>1403</th>\n",
       "      <td>2015-01-04</td>\n",
       "      <td>1.00</td>\n",
       "      <td>162162.75</td>\n",
       "      <td>113865.83</td>\n",
       "      <td>11083.58</td>\n",
       "      <td>11699.03</td>\n",
       "      <td>25514.31</td>\n",
       "      <td>conventional</td>\n",
       "      <td>2015.0</td>\n",
       "      <td>Nashville</td>\n",
       "    </tr>\n",
       "    <tr>\n",
       "      <th>363</th>\n",
       "      <td>2015-01-04</td>\n",
       "      <td>0.93</td>\n",
       "      <td>5777334.90</td>\n",
       "      <td>2843648.26</td>\n",
       "      <td>2267755.26</td>\n",
       "      <td>137479.64</td>\n",
       "      <td>528451.74</td>\n",
       "      <td>conventional</td>\n",
       "      <td>2015.0</td>\n",
       "      <td>California</td>\n",
       "    </tr>\n",
       "    <tr>\n",
       "      <th>9957</th>\n",
       "      <td>2015-01-04</td>\n",
       "      <td>1.54</td>\n",
       "      <td>61615.10</td>\n",
       "      <td>3633.93</td>\n",
       "      <td>42963.06</td>\n",
       "      <td>0.00</td>\n",
       "      <td>15018.11</td>\n",
       "      <td>organic</td>\n",
       "      <td>2015.0</td>\n",
       "      <td>GreatLakes</td>\n",
       "    </tr>\n",
       "    <tr>\n",
       "      <th>2027</th>\n",
       "      <td>2015-01-04</td>\n",
       "      <td>1.13</td>\n",
       "      <td>182697.97</td>\n",
       "      <td>56293.75</td>\n",
       "      <td>80396.09</td>\n",
       "      <td>9762.41</td>\n",
       "      <td>36245.72</td>\n",
       "      <td>conventional</td>\n",
       "      <td>2015.0</td>\n",
       "      <td>RichmondNorfolk</td>\n",
       "    </tr>\n",
       "    <tr>\n",
       "      <th>1039</th>\n",
       "      <td>2015-01-04</td>\n",
       "      <td>1.02</td>\n",
       "      <td>160130.15</td>\n",
       "      <td>4007.41</td>\n",
       "      <td>118435.79</td>\n",
       "      <td>1201.50</td>\n",
       "      <td>36485.45</td>\n",
       "      <td>conventional</td>\n",
       "      <td>2015.0</td>\n",
       "      <td>Indianapolis</td>\n",
       "    </tr>\n",
       "    <tr>\n",
       "      <th>...</th>\n",
       "      <td>...</td>\n",
       "      <td>...</td>\n",
       "      <td>...</td>\n",
       "      <td>...</td>\n",
       "      <td>...</td>\n",
       "      <td>...</td>\n",
       "      <td>...</td>\n",
       "      <td>...</td>\n",
       "      <td>...</td>\n",
       "      <td>...</td>\n",
       "    </tr>\n",
       "    <tr>\n",
       "      <th>17709</th>\n",
       "      <td>2018-03-25</td>\n",
       "      <td>1.66</td>\n",
       "      <td>15502.38</td>\n",
       "      <td>728.90</td>\n",
       "      <td>4308.74</td>\n",
       "      <td>0.00</td>\n",
       "      <td>10464.74</td>\n",
       "      <td>organic</td>\n",
       "      <td>2018.0</td>\n",
       "      <td>CincinnatiDayton</td>\n",
       "    </tr>\n",
       "    <tr>\n",
       "      <th>8958</th>\n",
       "      <td>2018-03-25</td>\n",
       "      <td>1.13</td>\n",
       "      <td>570446.95</td>\n",
       "      <td>135652.39</td>\n",
       "      <td>361227.57</td>\n",
       "      <td>812.10</td>\n",
       "      <td>72754.89</td>\n",
       "      <td>conventional</td>\n",
       "      <td>2018.0</td>\n",
       "      <td>Sacramento</td>\n",
       "    </tr>\n",
       "    <tr>\n",
       "      <th>8658</th>\n",
       "      <td>2018-03-25</td>\n",
       "      <td>1.18</td>\n",
       "      <td>4245947.20</td>\n",
       "      <td>860997.47</td>\n",
       "      <td>1144066.23</td>\n",
       "      <td>459002.28</td>\n",
       "      <td>1781881.22</td>\n",
       "      <td>conventional</td>\n",
       "      <td>2018.0</td>\n",
       "      <td>GreatLakes</td>\n",
       "    </tr>\n",
       "    <tr>\n",
       "      <th>17697</th>\n",
       "      <td>2018-03-25</td>\n",
       "      <td>1.65</td>\n",
       "      <td>35088.36</td>\n",
       "      <td>324.87</td>\n",
       "      <td>27550.29</td>\n",
       "      <td>0.00</td>\n",
       "      <td>7213.20</td>\n",
       "      <td>organic</td>\n",
       "      <td>2018.0</td>\n",
       "      <td>Chicago</td>\n",
       "    </tr>\n",
       "    <tr>\n",
       "      <th>17769</th>\n",
       "      <td>2018-03-25</td>\n",
       "      <td>1.34</td>\n",
       "      <td>8539.23</td>\n",
       "      <td>73.78</td>\n",
       "      <td>1301.09</td>\n",
       "      <td>0.00</td>\n",
       "      <td>7164.36</td>\n",
       "      <td>organic</td>\n",
       "      <td>2018.0</td>\n",
       "      <td>GrandRapids</td>\n",
       "    </tr>\n",
       "  </tbody>\n",
       "</table>\n",
       "<p>17228 rows × 10 columns</p>\n",
       "</div>"
      ],
      "text/plain": [
       "             Date  AveragePrice  TotalVolume       Small       Large  \\\n",
       "1403   2015-01-04          1.00    162162.75   113865.83    11083.58   \n",
       "363    2015-01-04          0.93   5777334.90  2843648.26  2267755.26   \n",
       "9957   2015-01-04          1.54     61615.10     3633.93    42963.06   \n",
       "2027   2015-01-04          1.13    182697.97    56293.75    80396.09   \n",
       "1039   2015-01-04          1.02    160130.15     4007.41   118435.79   \n",
       "...           ...           ...          ...         ...         ...   \n",
       "17709  2018-03-25          1.66     15502.38      728.90     4308.74   \n",
       "8958   2018-03-25          1.13    570446.95   135652.39   361227.57   \n",
       "8658   2018-03-25          1.18   4245947.20   860997.47  1144066.23   \n",
       "17697  2018-03-25          1.65     35088.36      324.87    27550.29   \n",
       "17769  2018-03-25          1.34      8539.23       73.78     1301.09   \n",
       "\n",
       "        AllSizes   TotalBags          Type    Year            Region  \n",
       "1403    11699.03    25514.31  conventional  2015.0         Nashville  \n",
       "363    137479.64   528451.74  conventional  2015.0        California  \n",
       "9957        0.00    15018.11       organic  2015.0        GreatLakes  \n",
       "2027     9762.41    36245.72  conventional  2015.0   RichmondNorfolk  \n",
       "1039     1201.50    36485.45  conventional  2015.0      Indianapolis  \n",
       "...          ...         ...           ...     ...               ...  \n",
       "17709       0.00    10464.74       organic  2018.0  CincinnatiDayton  \n",
       "8958      812.10    72754.89  conventional  2018.0        Sacramento  \n",
       "8658   459002.28  1781881.22  conventional  2018.0        GreatLakes  \n",
       "17697       0.00     7213.20       organic  2018.0           Chicago  \n",
       "17769       0.00     7164.36       organic  2018.0       GrandRapids  \n",
       "\n",
       "[17228 rows x 10 columns]"
      ]
     },
     "execution_count": 34,
     "metadata": {},
     "output_type": "execute_result"
    }
   ],
   "source": [
    "#4.2 Converted Field Types and Sorted in Ascending Order by Date\n",
    "avocado['Type'] = avocado['Type'].astype('category')\n",
    "avocado['Year'] = avocado['Year'].astype('category')\n",
    "avocado['Region'] = avocado['Region'].astype('category')\n",
    "subsetRegion = avocado[(avocado['Region'] != 'West') & (avocado['Region'] != 'TotalUS')]\n",
    "sortedsubsetRegion = subsetRegion.sort_values('Date')\n",
    "sortedsubsetRegion"
   ]
  },
  {
   "cell_type": "markdown",
   "metadata": {},
   "source": [
    "I converted to categories using the astype() method and created a subset by removing West and TotalUS values. After removing the values i sorted by Date using the sort_values() method. "
   ]
  },
  {
   "cell_type": "markdown",
   "metadata": {},
   "source": [
    "4.3. Sum up the total volume of avocado sales by region and create a horizontal bar\n",
    "plot using Matplotlib. Which state from the region has the highest sales of\n",
    "avocados by volume? Subset the data for that state, create a histogram of mean\n",
    "price and interpret it. Obtain the correlation index between mean price and total\n",
    "volume for that state, what do you find? (6 points)"
   ]
  },
  {
   "cell_type": "code",
   "execution_count": 35,
   "metadata": {},
   "outputs": [
    {
     "data": {
      "image/png": "[encoded data removed]",
      "text/plain": [
       "<Figure size 1224x936 with 1 Axes>"
      ]
     },
     "metadata": {},
     "output_type": "display_data"
    }
   ],
   "source": [
    "#4.3 Creating horizontal bar graph\n",
    "totalVolumeByRegion = subsetRegion.groupby(['Region'],as_index=False)['TotalVolume'].sum()\n",
    "plt.figure(figsize=(17,13))\n",
    "plt.barh(totalVolumeByRegion['Region'],totalVolumeByRegion['TotalVolume'])\n",
    "plt.title('Total Volume By Region')\n",
    "plt.ylabel('Region')\n",
    "plt.xlabel('Total Volume')\n",
    "plt.show()"
   ]
  },
  {
   "cell_type": "code",
   "execution_count": 36,
   "metadata": {},
   "outputs": [
    {
     "data": {
      "text/html": [
       "<div>\n",
       "<style scoped>\n",
       "    .dataframe tbody tr th:only-of-type {\n",
       "        vertical-align: middle;\n",
       "    }\n",
       "\n",
       "    .dataframe tbody tr th {\n",
       "        vertical-align: top;\n",
       "    }\n",
       "\n",
       "    .dataframe thead th {\n",
       "        text-align: right;\n",
       "    }\n",
       "</style>\n",
       "<table border=\"1\" class=\"dataframe\">\n",
       "  <thead>\n",
       "    <tr style=\"text-align: right;\">\n",
       "      <th></th>\n",
       "      <th>AveragePrice</th>\n",
       "      <th>TotalVolume</th>\n",
       "      <th>Small</th>\n",
       "      <th>Large</th>\n",
       "      <th>AllSizes</th>\n",
       "      <th>TotalBags</th>\n",
       "    </tr>\n",
       "  </thead>\n",
       "  <tbody>\n",
       "    <tr>\n",
       "      <th>AveragePrice</th>\n",
       "      <td>1.000000</td>\n",
       "      <td>-0.790835</td>\n",
       "      <td>-0.747491</td>\n",
       "      <td>-0.755052</td>\n",
       "      <td>-0.257364</td>\n",
       "      <td>-0.653639</td>\n",
       "    </tr>\n",
       "    <tr>\n",
       "      <th>TotalVolume</th>\n",
       "      <td>-0.790835</td>\n",
       "      <td>1.000000</td>\n",
       "      <td>0.950093</td>\n",
       "      <td>0.950988</td>\n",
       "      <td>0.342582</td>\n",
       "      <td>0.847882</td>\n",
       "    </tr>\n",
       "    <tr>\n",
       "      <th>Small</th>\n",
       "      <td>-0.747491</td>\n",
       "      <td>0.950093</td>\n",
       "      <td>1.000000</td>\n",
       "      <td>0.887019</td>\n",
       "      <td>0.315320</td>\n",
       "      <td>0.701364</td>\n",
       "    </tr>\n",
       "    <tr>\n",
       "      <th>Large</th>\n",
       "      <td>-0.755052</td>\n",
       "      <td>0.950988</td>\n",
       "      <td>0.887019</td>\n",
       "      <td>1.000000</td>\n",
       "      <td>0.333090</td>\n",
       "      <td>0.777221</td>\n",
       "    </tr>\n",
       "    <tr>\n",
       "      <th>AllSizes</th>\n",
       "      <td>-0.257364</td>\n",
       "      <td>0.342582</td>\n",
       "      <td>0.315320</td>\n",
       "      <td>0.333090</td>\n",
       "      <td>1.000000</td>\n",
       "      <td>0.287722</td>\n",
       "    </tr>\n",
       "    <tr>\n",
       "      <th>TotalBags</th>\n",
       "      <td>-0.653639</td>\n",
       "      <td>0.847882</td>\n",
       "      <td>0.701364</td>\n",
       "      <td>0.777221</td>\n",
       "      <td>0.287722</td>\n",
       "      <td>1.000000</td>\n",
       "    </tr>\n",
       "  </tbody>\n",
       "</table>\n",
       "</div>"
      ],
      "text/plain": [
       "              AveragePrice  TotalVolume     Small     Large  AllSizes  \\\n",
       "AveragePrice      1.000000    -0.790835 -0.747491 -0.755052 -0.257364   \n",
       "TotalVolume      -0.790835     1.000000  0.950093  0.950988  0.342582   \n",
       "Small            -0.747491     0.950093  1.000000  0.887019  0.315320   \n",
       "Large            -0.755052     0.950988  0.887019  1.000000  0.333090   \n",
       "AllSizes         -0.257364     0.342582  0.315320  0.333090  1.000000   \n",
       "TotalBags        -0.653639     0.847882  0.701364  0.777221  0.287722   \n",
       "\n",
       "              TotalBags  \n",
       "AveragePrice  -0.653639  \n",
       "TotalVolume    0.847882  \n",
       "Small          0.701364  \n",
       "Large          0.777221  \n",
       "AllSizes       0.287722  \n",
       "TotalBags      1.000000  "
      ]
     },
     "execution_count": 36,
     "metadata": {},
     "output_type": "execute_result"
    }
   ],
   "source": [
    "totalVolumeCali = avocado.loc[avocado['Region'] == 'California']\n",
    "totalVolumeCali.corr()"
   ]
  },
  {
   "cell_type": "markdown",
   "metadata": {},
   "source": [
    "Surprisingly, California has the highest amount of avocado sales, but just barely beats out the South Central region. The South Central Region does contain the state of Texas which is known for their Tex-Mex food. This could contribute to the increase use of avocados in the South Central region. Additionally can be seen on the correlation index Total Volume and Average Price have a negative correlation relationship."
   ]
  },
  {
   "cell_type": "markdown",
   "metadata": {},
   "source": [
    "4.4. Provide your observations of the following timeline plot of avocado sales by\n",
    "volume. Which month consistently has the highest volume of sales every year? In\n",
    "general, what could be some possible reasons driving this surge in sales? (2\n",
    "points)"
   ]
  },
  {
   "cell_type": "markdown",
   "metadata": {},
   "source": [
    "From the graph February seems to be the month with the highest volume of avocado sales. I suspect the main factor is the Super Bowl, guacamole is an iconic side dish to many of the super bowl parties. "
   ]
  }
 ],
 "metadata": {
  "interpreter": {
   "hash": "f9b8210a67d4a5b974f0633f975e29130ba799535bb14bbb888dd93393bdb865"
  },
  "kernelspec": {
   "display_name": "Python 3.8.8 64-bit ('base': conda)",
   "language": "python",
   "name": "python3"
  },
  "language_info": {
   "codemirror_mode": {
    "name": "ipython",
    "version": 3
   },
   "file_extension": ".py",
   "mimetype": "text/x-python",
   "name": "python",
   "nbconvert_exporter": "python",
   "pygments_lexer": "ipython3",
   "version": "3.8.8"
  },
  "orig_nbformat": 4
 },
 "nbformat": 4,
 "nbformat_minor": 2
}
