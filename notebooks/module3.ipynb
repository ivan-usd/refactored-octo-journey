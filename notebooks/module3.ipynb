{
 "cells": [
  {
   "cell_type": "code",
   "execution_count": null,
   "metadata": {},
   "outputs": [],
   "source": [
    "#Importing python packages\n",
    "import numpy as np\n",
    "import pandas as pd\n",
    "import matplotlib as mpl\n",
    "import matplotlib.pyplot as plt\n",
    "import seaborn as sns"
   ]
  },
  {
   "cell_type": "code",
   "execution_count": null,
   "metadata": {},
   "outputs": [],
   "source": [
    "#Setting Variables for question 1\n",
    "weightsFP = '../src/data/module3Data/weights.tsv'\n",
    "POUND_KILO = 0.453592"
   ]
  },
  {
   "cell_type": "code",
   "execution_count": null,
   "metadata": {},
   "outputs": [],
   "source": [
    "#1.1 Import TSV file Weights using Pandas package\n",
    "weights = pd.read_csv(weightsFP, sep='\\t', header=None)\n",
    "weights.columns = ['Pounds']"
   ]
  },
  {
   "cell_type": "code",
   "execution_count": null,
   "metadata": {},
   "outputs": [],
   "source": [
    "# 1.2 Convert Pounds to Kilogram and round to 2 decimal places\n",
    "weights['Kilograms'] = round(weights * POUND_KILO,2)\n",
    "print(weights)"
   ]
  },
  {
   "cell_type": "code",
   "execution_count": null,
   "metadata": {},
   "outputs": [],
   "source": [
    "# 1.3 Find Mean, Median, and STD of both series objects using Numpy package\n",
    "Mean = round(np.mean(weights),2)\n",
    "poundsMedian = round(np.median(weights.Pounds),2)\n",
    "kiloMedian = round(np.median(weights.Kilograms),2)\n",
    "STD = round(np.std(weights),2)\n",
    "print('Mean for Pounds: '+str(Mean['Pounds']),'\\nMean for Kilograms: '+str(Mean['Kilograms']),\n",
    "    '\\nMedian Pounds: '+str(poundsMedian),'\\nMedian Kilograms: '+str(kiloMedian),'\\nSTD Pounds '+str(STD['Pounds']),\n",
    "    '\\nSTD Kilograms: '+str(STD['Kilograms']))"
   ]
  },
  {
   "cell_type": "code",
   "execution_count": null,
   "metadata": {},
   "outputs": [],
   "source": [
    "# 1.4 Plotting Histogram for Kilograms using matplotlib.pyplot package\n",
    "plt.figure(figsize=(10,7))\n",
    "hist1, edges1 = np.histogram(weights.Kilograms, bins=10)\n",
    "plt.title('Histogram for Weight in Kilograms')\n",
    "plt.bar(edges1[:-1], hist1, width=edges1[1:]-edges1[:-1])\n",
    "plt.show()"
   ]
  },
  {
   "cell_type": "code",
   "execution_count": null,
   "metadata": {},
   "outputs": [],
   "source": [
    "#Setting variables Question 2\n",
    "bostonFP = '../src/data/module3Data/boston.csv'"
   ]
  },
  {
   "cell_type": "code",
   "execution_count": null,
   "metadata": {},
   "outputs": [],
   "source": [
    "# #2.1 Import boston file using pandas and use the shape attribute\n",
    "boston = pd.read_csv(bostonFP)\n",
    "print(f'Number of Rows: {boston.shape[0]}\\nNumber of Columns: {boston.shape[1]}')"
   ]
  },
  {
   "cell_type": "code",
   "execution_count": null,
   "metadata": {},
   "outputs": [],
   "source": [
    "#2.2 Grabbing row with lowest NOX concentration using loc, then printing out the value of MEDV column for that row\n",
    "noxMinRow = boston.loc[boston['NOX'] == boston['NOX'].min()]\n",
    "print(f\"Owner occupied home value for lowest nitric oxide concentration is: {noxMinRow['MEDV'].values[0]}\")"
   ]
  },
  {
   "cell_type": "code",
   "execution_count": null,
   "metadata": {},
   "outputs": [],
   "source": [
    "#2.3 Creating boxplot using matplotlib and finding IQR using Pandas quantile attributes\n",
    "plt.figure(figsize=(10,7))\n",
    "plt.boxplot(boston['CRIM'])\n",
    "plt.title('Per Capita Crime Rate')\n",
    "plt.show()\n",
    "bostonIQR = boston['CRIM'].quantile(0.75)-boston['CRIM'].quantile(0.25)\n",
    "print(f'The CRIM IQR is: {bostonIQR}')"
   ]
  },
  {
   "cell_type": "code",
   "execution_count": null,
   "metadata": {},
   "outputs": [],
   "source": [
    "#Missing 2.4, 2.5 ,2.6"
   ]
  },
  {
   "cell_type": "code",
   "execution_count": null,
   "metadata": {},
   "outputs": [],
   "source": [
    "#Importing tips dataset from seaborn\n",
    "tips_df = sns.load_dataset('tips')"
   ]
  },
  {
   "cell_type": "code",
   "execution_count": null,
   "metadata": {},
   "outputs": [],
   "source": [
    "#3.1 Calculated and added tip percentage column\n",
    "tips_df['tip_percent'] = round(tips_df['tip']/tips_df['total_bill'],2)*100\n",
    "print(tips_df)"
   ]
  },
  {
   "cell_type": "code",
   "execution_count": null,
   "metadata": {},
   "outputs": [],
   "source": [
    "#3.2 Group By day to find Sunday has the highest mean bill total\n",
    "tips_df.groupby(['day'])['total_bill'].mean()"
   ]
  },
  {
   "cell_type": "code",
   "execution_count": null,
   "metadata": {},
   "outputs": [],
   "source": [
    "#3.3 Creating two dataframes and joining to compare results ??????STILL IN WORKS!!!!! \n",
    "#print(tips_df.groupby(['time'],as_index=False)['size'].sum())\n",
    "tips_df.groupby(['smoker'],as_index=False)['time'].count()\n",
    "#tips_df.groupby(['time'],as_index=False)['smoker'].count()\n",
    "print(tips_df['smoker'])"
   ]
  },
  {
   "cell_type": "code",
   "execution_count": null,
   "metadata": {},
   "outputs": [],
   "source": [
    "# Missing 3.4, 3.5"
   ]
  },
  {
   "cell_type": "code",
   "execution_count": null,
   "metadata": {},
   "outputs": [],
   "source": [
    "#Set filepath for avocado.csv\n",
    "avocadoFP = '../src/data/module3Data/avocado.csv'"
   ]
  },
  {
   "cell_type": "code",
   "execution_count": null,
   "metadata": {},
   "outputs": [],
   "source": [
    "#Import Avocado.csv using Pandas\n",
    "avocado = pd.read_csv(avocadoFP)"
   ]
  },
  {
   "cell_type": "code",
   "execution_count": null,
   "metadata": {},
   "outputs": [],
   "source": [
    "#4.1 Displaying total amount of missing values and handling the missing values\n",
    "avocado.isnull().sum()"
   ]
  }
 ],
 "metadata": {
  "interpreter": {
   "hash": "f9b8210a67d4a5b974f0633f975e29130ba799535bb14bbb888dd93393bdb865"
  },
  "kernelspec": {
   "display_name": "Python 3.8.8 64-bit ('base': conda)",
   "language": "python",
   "name": "python3"
  },
  "language_info": {
   "codemirror_mode": {
    "name": "ipython",
    "version": 3
   },
   "file_extension": ".py",
   "mimetype": "text/x-python",
   "name": "python",
   "nbconvert_exporter": "python",
   "pygments_lexer": "ipython3",
   "version": "3.8.8"
  },
  "orig_nbformat": 4
 },
 "nbformat": 4,
 "nbformat_minor": 2
}
